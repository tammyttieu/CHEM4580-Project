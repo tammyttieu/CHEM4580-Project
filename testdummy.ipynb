{
 "cells": [
  {
   "cell_type": "code",
   "execution_count": 1,
   "metadata": {},
   "outputs": [
    {
     "ename": "ModuleNotFoundError",
     "evalue": "No module named 'numpy'",
     "output_type": "error",
     "traceback": [
      "\u001b[1;31m---------------------------------------------------------------------------\u001b[0m",
      "\u001b[1;31mModuleNotFoundError\u001b[0m                       Traceback (most recent call last)",
      "Cell \u001b[1;32mIn[1], line 1\u001b[0m\n\u001b[1;32m----> 1\u001b[0m \u001b[38;5;28;01mimport\u001b[39;00m \u001b[38;5;21;01mnumpy\u001b[39;00m \u001b[38;5;28;01mas\u001b[39;00m \u001b[38;5;21;01mnp\u001b[39;00m\n\u001b[0;32m      2\u001b[0m \u001b[38;5;28;01mimport\u001b[39;00m \u001b[38;5;21;01mpandas\u001b[39;00m \u001b[38;5;28;01mas\u001b[39;00m \u001b[38;5;21;01mpd\u001b[39;00m\n\u001b[0;32m      3\u001b[0m \u001b[38;5;28;01mimport\u001b[39;00m \u001b[38;5;21;01mmatplotlib\u001b[39;00m\u001b[38;5;21;01m.\u001b[39;00m\u001b[38;5;21;01mpyplot\u001b[39;00m \u001b[38;5;28;01mas\u001b[39;00m \u001b[38;5;21;01mplt\u001b[39;00m\n",
      "\u001b[1;31mModuleNotFoundError\u001b[0m: No module named 'numpy'"
     ]
    }
   ],
   "source": [
    "import numpy as np\n",
    "import pandas as pd\n",
    "import matplotlib.pyplot as plt\n",
    "from rdkit import Chem\n",
    "from rdkit.Chem import AllChem"
   ]
  },
  {
   "cell_type": "code",
   "execution_count": null,
   "metadata": {},
   "outputs": [],
   "source": [
    "# Function to calculate dihedral angle\n",
    "def calculate_dihedral(a, b, c, d):\n",
    "    b1 = a - b\n",
    "    b2 = c - b\n",
    "    b3 = d - c\n",
    "    \n",
    "    b1 = b1 / np.linalg.norm(b1)\n",
    "    b2 = b2 / np.linalg.norm(b2)\n",
    "    b3 = b3 / np.linalg.norm(b3)\n",
    "\n",
    "    n1 = np.cross(b1, b2)\n",
    "    n2 = np.cross(b2, b3)\n",
    "\n",
    "    x = np.dot(n1, n2)\n",
    "    y = np.dot(np.cross(n1, n2), b2)\n",
    "    angle = np.arctan2(y, x)\n",
    "    \n",
    "    return np.degrees(angle)\n",
    "\n",
    "# Function to load RNA from PDB file\n",
    "def load_rna_from_pdb(pdb_file):\n",
    "    atom_coords = []\n",
    "    atom_indices = []\n",
    "    with open(pdb_file, 'r') as file:\n",
    "        for line in file:\n",
    "            if line.startswith('ATOM'):\n",
    "                parts = line.split()\n",
    "                atom_idx = int(parts[1])  # Atom serial number\n",
    "                x = float(parts[6])\n",
    "                y = float(parts[7])\n",
    "                z = float(parts[8])\n",
    "                atom_coords.append([x, y, z])\n",
    "                atom_indices.append(atom_idx)\n",
    "    return np.array(atom_coords), atom_indices\n",
    "\n",
    "# Function to visualize the RNA molecule\n",
    "def visualize_rna(coords, bonds):\n",
    "    fig = plt.figure()\n",
    "    ax = fig.add_subplot(111, projection='3d')\n",
    "    ax.scatter(coords[:, 0], coords[:, 1], coords[:, 2], c='r', marker='o')\n",
    "\n",
    "    for bond in bonds:\n",
    "        ax.plot([coords[bond[0], 0], coords[bond[1], 0]],\n",
    "                [coords[bond[0], 1], coords[bond[1], 1]],\n",
    "                [coords[bond[0], 2], coords[bond[1], 2]], 'b-')\n",
    "\n",
    "    plt.show()\n",
    "\n",
    "# Main function\n",
    "def main():\n",
    "    pdb_file = 'example.pdb'  # Replace with your PDB file path\n",
    "\n",
    "    # Load RNA\n",
    "    atom_coords, atom_indices = load_rna_from_pdb(pdb_file)\n",
    "\n",
    "    # Define ribose dihedral angles (generalized)\n",
    "    angles = []\n",
    "    bonds = []\n",
    "\n",
    "    for i in range(len(atom_coords) - 3):\n",
    "        a1 = atom_coords[i]\n",
    "        a2 = atom_coords[i + 1]\n",
    "        a3 = atom_coords[i + 2]\n",
    "        a4 = atom_coords[i + 3]\n",
    "\n",
    "        angle = calculate_dihedral(a1, a2, a3, a4)\n",
    "        angles.append((i, i + 1, i + 2, i + 3, angle))\n",
    "        bonds.append((i, i + 1))  # Add bond connections for visualization\n",
    "\n",
    "    # Create DataFrame for angles\n",
    "    angle_df = pd.DataFrame(angles, columns=['Atom1', 'Atom2', 'Atom3', 'Atom4', 'Dihedral Angle (degrees)'])\n",
    "    print(angle_df)\n",
    "\n",
    "    # Visualize RNA\n",
    "    visualize_rna(atom_coords, bonds)\n",
    "\n",
    "if __name__ == '__main__':\n",
    "    main()\n"
   ]
  }
 ],
 "metadata": {
  "kernelspec": {
   "display_name": "Python 3",
   "language": "python",
   "name": "python3"
  },
  "language_info": {
   "codemirror_mode": {
    "name": "ipython",
    "version": 3
   },
   "file_extension": ".py",
   "mimetype": "text/x-python",
   "name": "python",
   "nbconvert_exporter": "python",
   "pygments_lexer": "ipython3",
   "version": "3.13.0"
  }
 },
 "nbformat": 4,
 "nbformat_minor": 2
}
